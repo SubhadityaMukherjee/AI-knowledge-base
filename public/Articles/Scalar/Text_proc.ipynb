{
 "cells": [
  {
   "cell_type": "code",
   "execution_count": 1,
   "metadata": {},
   "outputs": [],
   "source": [
    "import os\n",
    "import re\n",
    "# %pip install clipboard\n",
    "import clipboard"
   ]
  },
  {
   "cell_type": "code",
   "execution_count": 2,
   "metadata": {},
   "outputs": [],
   "source": [
    "def gen_image_hackmd():\n",
    "    link = input(\"Enter link\")\n",
    "    name = input(\"Enter name\")\n",
    "    count = int(input(\"Enter count\"))\n",
    "    print(\"\\n\\n\")\n",
    "    return f\"\"\"[IMAGE { {count} } { {name} } START SAMPLE]\n",
    "![{name}](https://hackmd.io/_uploads/{link})\n",
    "[IMAGE { {count} } FINISH SAMPLE]\"\"\".replace(\"\\\\\",\"\").replace(\"'\", \"\")"
   ]
  },
  {
   "cell_type": "code",
   "execution_count": 3,
   "metadata": {},
   "outputs": [],
   "source": [
    "def setup_base(main_paras):\n",
    "#     main_paras = input('Enter main paras')\n",
    "    para_string = \"\"\"\n",
    "    :::section{.abstract}\n",
    "    ## Overview\n",
    "    :::\n",
    "    :::section{.scope}\n",
    "    ## Scope\n",
    "    This article covers the following topics:\n",
    "    \n",
    "    :::\n",
    "    :::section{.main}\n",
    "    \"\"\"\n",
    "    para_string += f\"\\n{main_paras}\"\n",
    "    para_string += \"\"\"\n",
    "    :::\n",
    "    :::section{.summary}\n",
    "\n",
    "    ## Conclusion\n",
    "    :::\n",
    "    \"\"\"\n",
    "    return para_string"
   ]
  },
  {
   "cell_type": "markdown",
   "metadata": {},
   "source": [
    "# Image"
   ]
  },
  {
   "cell_type": "code",
   "execution_count": 12,
   "metadata": {
    "scrolled": true
   },
   "outputs": [
    {
     "name": "stdout",
     "output_type": "stream",
     "text": [
      "\n",
      "\n",
      "\n"
     ]
    }
   ],
   "source": [
    "clipboard.copy(gen_image_hackmd())\n",
    "# print(gen_image_hackmd())"
   ]
  },
  {
   "cell_type": "markdown",
   "metadata": {},
   "source": [
    "# Setup Article"
   ]
  },
  {
   "cell_type": "code",
   "execution_count": 4,
   "metadata": {
    "scrolled": false
   },
   "outputs": [],
   "source": [
    "main_parts = \"\"\"\n",
    "## Introduction\n",
    "## What Are Siamese Networks?\n",
    "- (how do they work?)\n",
    "\n",
    "- (Proper explanation with real life examples)\n",
    "## Exploring Few-Shot Learning\n",
    "## Architecture of Siamese Networks\n",
    "## Loss Functions Used in Siamese Networks\n",
    "## Building a Signature Verification Modeil With Siamese Networks\n",
    "### Dataset\n",
    "### Description of problem statement\n",
    "### Data preprocessing\n",
    "### Brief description of the features (numerical, categorical, etc.)\n",
    "### Standardization of the features\n",
    "### Splitting the dataset\n",
    "### Neural Network Architecture \n",
    "### Loss Function \n",
    "### Training the Siamese Network\n",
    "### Testing the model \n",
    "    - (Should include a section showing how to perform inference with the model on a single data point)\n",
    "    - (Note for the writer - use an incremental approach here, break the projects into different steps/parts and make it easy for the reader to follow through your code with proper outputs and explanation)\n",
    "## Pros and Cons of Siamese Networks\n",
    "## Applications\n",
    "\"\"\"\n",
    "# print(setup_base(main_parts))\n",
    "clipboard.copy(setup_base(main_parts))"
   ]
  },
  {
   "attachments": {},
   "cell_type": "markdown",
   "metadata": {},
   "source": [
    "# Fix image entries"
   ]
  },
  {
   "cell_type": "code",
   "execution_count": 71,
   "metadata": {},
   "outputs": [],
   "source": [
    "get_inpt = clipboard.paste()\n",
    "split_inps = get_inpt.split(\"\\n\")\n",
    "fixed_text = []\n",
    "temp_rep = \"\"\n",
    "for line in split_inps:\n",
    "    if \"IMAGE\" in line:\n",
    "        if line.count(\"}\") <= 1:\n",
    "            if \"START\" in line:\n",
    "                st = line.find(\"}\") + 1\n",
    "                end = line.find(\"START\")\n",
    "                found_string = line[st:end]\n",
    "                new_string = \" {\" + found_string + \"} \"\n",
    "                line = line.replace(found_string, new_string)\n",
    "                temp_rep = line\n",
    "\n",
    "            # if \"FINISH\" in line:\n",
    "            #     st = line.find(\"}\") + 1\n",
    "            #     end = line.find(\"FINISH\")\n",
    "            #     found_string = line[st:end]\n",
    "            #     new_string = \" {\" + temp_rep + \"} FINISH\"\n",
    "            #     line = line.replace(\"FINISH\", new_string)\n",
    "        # else:\n",
    "        #     if \"START\" in line:\n",
    "        #         temp_rep = line[line.find(\"} {\")+1 : line.find(\"} ST\")]\n",
    "        #         temp_rep = temp_rep.replace(\"}\", \"\")\n",
    "        #         temp_rep = temp_rep.replace(\"{\", \"\")\n",
    "\n",
    "    fixed_text.append(line)\n",
    "clipboard.copy(\"\\n\".join(fixed_text))\n",
    "# print(\"\\n\".join(fixed_text))"
   ]
  },
  {
   "cell_type": "code",
   "execution_count": null,
   "metadata": {},
   "outputs": [],
   "source": []
  }
 ],
 "metadata": {
  "kernelspec": {
   "display_name": "Python 3",
   "language": "python",
   "name": "python3"
  },
  "language_info": {
   "codemirror_mode": {
    "name": "ipython",
    "version": 3
   },
   "file_extension": ".py",
   "mimetype": "text/x-python",
   "name": "python",
   "nbconvert_exporter": "python",
   "pygments_lexer": "ipython3",
   "version": "3.10.8 (main, Oct 21 2022, 22:22:30) [Clang 14.0.0 (clang-1400.0.29.202)]"
  },
  "vscode": {
   "interpreter": {
    "hash": "b0fa6594d8f4cbf19f97940f81e996739fb7646882a419484c72d19e05852a7e"
   }
  }
 },
 "nbformat": 4,
 "nbformat_minor": 2
}
